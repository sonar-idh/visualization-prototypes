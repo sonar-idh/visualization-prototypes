{
 "cells": [
  {
   "cell_type": "markdown",
   "metadata": {},
   "source": [
    "# Long to wide format transformer\n",
    "### Code to transform the wide data format of the temporal data label categories (e.g. number of jobs per year) to a long format"
   ]
  },
  {
   "cell_type": "code",
   "execution_count": 9,
   "metadata": {},
   "outputs": [],
   "source": [
    "import pandas as pd "
   ]
  },
  {
   "cell_type": "code",
   "execution_count": 13,
   "metadata": {},
   "outputs": [
    {
     "name": "stdout",
     "output_type": "stream",
     "text": [
      "                            EntityName  year_50  year_100  year_150  year_200  \\\n",
      "0              Rengersche Buchhandlung      1.0       NaN       NaN       NaN   \n",
      "1           Christian Albrecht Gäbert      1.0       NaN       NaN       NaN   \n",
      "2                    Asclepios-Edition      1.0       NaN       NaN       NaN   \n",
      "3                    Imprimerie Royale      1.0       NaN       NaN       1.0   \n",
      "4  Otto-Friedrich-Universität Bamberg      1.0       NaN       NaN       NaN   \n",
      "\n",
      "   year_250  year_300  year_350  year_400  year_450  ...  year_1550  \\\n",
      "0       NaN       NaN       NaN       NaN       NaN  ...        NaN   \n",
      "1       NaN       NaN       NaN       NaN       NaN  ...        NaN   \n",
      "2       NaN       NaN       NaN       NaN       NaN  ...        NaN   \n",
      "3       NaN       NaN       1.0       NaN       1.0  ...        1.0   \n",
      "4       NaN       NaN       NaN       NaN       NaN  ...        NaN   \n",
      "\n",
      "   year_1600  year_1650  year_1700  year_1750  year_1800  year_1850  \\\n",
      "0        1.0        1.0        1.0        1.0        1.0        1.0   \n",
      "1        1.0        1.0        1.0        NaN        NaN        NaN   \n",
      "2        NaN        NaN        1.0        1.0        NaN        NaN   \n",
      "3        1.0        2.0        4.0        1.0        1.0        NaN   \n",
      "4        NaN        NaN        NaN        1.0        1.0        1.0   \n",
      "\n",
      "   year_1900  year_1950  year_2000  \n",
      "0        NaN        NaN        NaN  \n",
      "1        NaN        NaN        NaN  \n",
      "2        NaN        1.0        NaN  \n",
      "3        NaN        NaN        NaN  \n",
      "4        9.0       20.0        NaN  \n",
      "\n",
      "[5 rows x 41 columns]\n"
     ]
    }
   ],
   "source": [
    "df = pd.read_csv('data-results/corpname_50er_all.csv') #data-results/persontopicterms_50er-2.csv\n",
    "print(df.head(5))"
   ]
  },
  {
   "cell_type": "code",
   "execution_count": 14,
   "metadata": {},
   "outputs": [
    {
     "data": {
      "text/html": [
       "<div>\n",
       "<style scoped>\n",
       "    .dataframe tbody tr th:only-of-type {\n",
       "        vertical-align: middle;\n",
       "    }\n",
       "\n",
       "    .dataframe tbody tr th {\n",
       "        vertical-align: top;\n",
       "    }\n",
       "\n",
       "    .dataframe thead th {\n",
       "        text-align: right;\n",
       "    }\n",
       "</style>\n",
       "<table border=\"1\" class=\"dataframe\">\n",
       "  <thead>\n",
       "    <tr style=\"text-align: right;\">\n",
       "      <th></th>\n",
       "      <th></th>\n",
       "      <th>year_</th>\n",
       "    </tr>\n",
       "    <tr>\n",
       "      <th>EntityName</th>\n",
       "      <th>year</th>\n",
       "      <th></th>\n",
       "    </tr>\n",
       "  </thead>\n",
       "  <tbody>\n",
       "    <tr>\n",
       "      <th>Rengersche Buchhandlung</th>\n",
       "      <th>50</th>\n",
       "      <td>1.0</td>\n",
       "    </tr>\n",
       "    <tr>\n",
       "      <th>Christian Albrecht Gäbert</th>\n",
       "      <th>50</th>\n",
       "      <td>1.0</td>\n",
       "    </tr>\n",
       "    <tr>\n",
       "      <th>Asclepios-Edition</th>\n",
       "      <th>50</th>\n",
       "      <td>1.0</td>\n",
       "    </tr>\n",
       "    <tr>\n",
       "      <th>Imprimerie Royale</th>\n",
       "      <th>50</th>\n",
       "      <td>1.0</td>\n",
       "    </tr>\n",
       "    <tr>\n",
       "      <th>Otto-Friedrich-Universität Bamberg</th>\n",
       "      <th>50</th>\n",
       "      <td>1.0</td>\n",
       "    </tr>\n",
       "    <tr>\n",
       "      <th>...</th>\n",
       "      <th>...</th>\n",
       "      <td>...</td>\n",
       "    </tr>\n",
       "    <tr>\n",
       "      <th>Stormwitch</th>\n",
       "      <th>2000</th>\n",
       "      <td>1.0</td>\n",
       "    </tr>\n",
       "    <tr>\n",
       "      <th>Gifu-Keizai-Daigaku</th>\n",
       "      <th>2000</th>\n",
       "      <td>1.0</td>\n",
       "    </tr>\n",
       "    <tr>\n",
       "      <th>Life de Luxe</th>\n",
       "      <th>2000</th>\n",
       "      <td>1.0</td>\n",
       "    </tr>\n",
       "    <tr>\n",
       "      <th>Universidad Siglo 21</th>\n",
       "      <th>2000</th>\n",
       "      <td>1.0</td>\n",
       "    </tr>\n",
       "    <tr>\n",
       "      <th>Dawes</th>\n",
       "      <th>2000</th>\n",
       "      <td>1.0</td>\n",
       "    </tr>\n",
       "  </tbody>\n",
       "</table>\n",
       "<p>6261400 rows × 1 columns</p>\n",
       "</div>"
      ],
      "text/plain": [
       "                                          year_\n",
       "EntityName                          year       \n",
       "Rengersche Buchhandlung             50      1.0\n",
       "Christian Albrecht Gäbert          50      1.0\n",
       "Asclepios-Edition                   50      1.0\n",
       "Imprimerie Royale                   50      1.0\n",
       "Otto-Friedrich-Universität Bamberg 50      1.0\n",
       "...                                         ...\n",
       "Stormwitch                          2000    1.0\n",
       "Gifu-Keizai-Daigaku                 2000    1.0\n",
       "Life de Luxe                        2000    1.0\n",
       "Universidad Siglo 21                2000    1.0\n",
       "Dawes                               2000    1.0\n",
       "\n",
       "[6261400 rows x 1 columns]"
      ]
     },
     "execution_count": 14,
     "metadata": {},
     "output_type": "execute_result"
    }
   ],
   "source": [
    "longFormatDF = pd.wide_to_long(df, [\"year_\"], i=\"EntityName\", j=\"year\")\n",
    "longFormatDF"
   ]
  },
  {
   "cell_type": "code",
   "execution_count": 15,
   "metadata": {},
   "outputs": [],
   "source": [
    "longFormatDF.to_csv(\"data-results/corpname_50er_long.csv\")"
   ]
  },
  {
   "cell_type": "code",
   "execution_count": null,
   "metadata": {},
   "outputs": [],
   "source": []
  }
 ],
 "metadata": {
  "kernelspec": {
   "display_name": "Python 3",
   "language": "python",
   "name": "python3"
  },
  "language_info": {
   "codemirror_mode": {
    "name": "ipython",
    "version": 3
   },
   "file_extension": ".py",
   "mimetype": "text/x-python",
   "name": "python",
   "nbconvert_exporter": "python",
   "pygments_lexer": "ipython3",
   "version": "3.8.5"
  }
 },
 "nbformat": 4,
 "nbformat_minor": 4
}
