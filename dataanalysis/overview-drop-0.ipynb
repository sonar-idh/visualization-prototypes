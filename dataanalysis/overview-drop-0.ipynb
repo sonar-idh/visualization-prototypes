{
 "cells": [
  {
   "cell_type": "markdown",
   "metadata": {},
   "source": [
    "# Drop NaN values from files"
   ]
  },
  {
   "cell_type": "code",
   "execution_count": 2,
   "metadata": {},
   "outputs": [],
   "source": [
    "import json\n",
    "import pandas as pd \n",
    "import numpy as np"
   ]
  },
  {
   "cell_type": "code",
   "execution_count": 38,
   "metadata": {},
   "outputs": [
    {
     "name": "stdout",
     "output_type": "stream",
     "text": [
      "            entityName  year  value\n",
      "0           Stadtrecht  1400    3.0\n",
      "1      Friedensvertrag  1400    1.0\n",
      "2       Feuerwerksbuch  1400    1.0\n",
      "3  Frühneuhochdeutsch  1400    1.0\n",
      "4  Halsgerichtsordnung  1400    NaN\n",
      "<bound method NDFrame.describe of                 entityName  year  value\n",
      "0               Stadtrecht  1400    3.0\n",
      "1          Friedensvertrag  1400    1.0\n",
      "2           Feuerwerksbuch  1400    1.0\n",
      "3      Frühneuhochdeutsch  1400    1.0\n",
      "4      Halsgerichtsordnung  1400    NaN\n",
      "...                    ...   ...    ...\n",
      "1689            Verfassung  1900    1.0\n",
      "1690      Experimentalfilm  1900    1.0\n",
      "1691           Funktechnik  1900    1.0\n",
      "1692         Jugendzeitung  1900    1.0\n",
      "1693  Ermächtigungsgesetz  1900    1.0\n",
      "\n",
      "[1694 rows x 3 columns]>\n"
     ]
    }
   ],
   "source": [
    "df = pd.read_csv('data-drop-0/unititletopic_50er_long.csv') #data-results/persontopicterms_50er-2.csv\n",
    "print(df.head(5))\n",
    "print(df.describe)"
   ]
  },
  {
   "cell_type": "code",
   "execution_count": 39,
   "metadata": {},
   "outputs": [
    {
     "name": "stdout",
     "output_type": "stream",
     "text": [
      "              entityName  year  value\n",
      "0             Stadtrecht  1400    3.0\n",
      "1        Friedensvertrag  1400    1.0\n",
      "2         Feuerwerksbuch  1400    1.0\n",
      "3    Frühneuhochdeutsch  1400    1.0\n",
      "154           Stadtrecht  1450    2.0\n",
      "<bound method NDFrame.describe of                 entityName  year  value\n",
      "0               Stadtrecht  1400    3.0\n",
      "1          Friedensvertrag  1400    1.0\n",
      "2           Feuerwerksbuch  1400    1.0\n",
      "3      Frühneuhochdeutsch  1400    1.0\n",
      "154             Stadtrecht  1450    2.0\n",
      "...                    ...   ...    ...\n",
      "1689            Verfassung  1900    1.0\n",
      "1690      Experimentalfilm  1900    1.0\n",
      "1691           Funktechnik  1900    1.0\n",
      "1692         Jugendzeitung  1900    1.0\n",
      "1693  Ermächtigungsgesetz  1900    1.0\n",
      "\n",
      "[213 rows x 3 columns]>\n"
     ]
    }
   ],
   "source": [
    "df2= df[~df['value'].isnull()]\n",
    "print(df2.head(5))\n",
    "print(df2.describe)"
   ]
  },
  {
   "cell_type": "code",
   "execution_count": 40,
   "metadata": {},
   "outputs": [],
   "source": [
    "df2.to_csv('data-drop-0/unititletopic_50er_long_komp.csv', index=False)"
   ]
  },
  {
   "cell_type": "code",
   "execution_count": null,
   "metadata": {},
   "outputs": [],
   "source": []
  }
 ],
 "metadata": {
  "kernelspec": {
   "display_name": "Python 3",
   "language": "python",
   "name": "python3"
  },
  "language_info": {
   "codemirror_mode": {
    "name": "ipython",
    "version": 3
   },
   "file_extension": ".py",
   "mimetype": "text/x-python",
   "name": "python",
   "nbconvert_exporter": "python",
   "pygments_lexer": "ipython3",
   "version": "3.8.5"
  }
 },
 "nbformat": 4,
 "nbformat_minor": 4
}
